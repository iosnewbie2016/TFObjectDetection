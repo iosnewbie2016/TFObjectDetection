{
 "cells": [
  {
   "cell_type": "code",
   "execution_count": 1,
   "metadata": {
    "collapsed": true
   },
   "outputs": [],
   "source": [
    "# This is used to convert the xmls to a consolidated csv file for train and test data.\n",
    "# The code will randomly split the training and testing data and consolidate the xmls for those into a single one.\n",
    "# coding: utf-8\n",
    "\n",
    "# # Object Detection Demo\n",
    "# Welcome to the object detection inference walkthrough!  This notebook will walk you step by step through the process of using a pre-trained model to detect objects in an image. Make sure to follow the [installation instructions](https://github.com/tensorflow/models/blob/master/object_detection/g3doc/installation.md) before you start.\n",
    "\n",
    "# # Imports\n",
    "\n",
    "# In[1]:\n",
    "\n",
    "import numpy as np\n",
    "import os\n",
    "import six.moves.urllib as urllib\n",
    "import sys\n",
    "import tarfile\n",
    "import tensorflow as tf\n",
    "import zipfile\n",
    "\n",
    "import glob\n",
    "import pandas as pd\n",
    "import xml.etree.ElementTree as ET\n",
    "\n",
    "\n",
    "from collections import defaultdict\n",
    "from io import StringIO\n",
    "from matplotlib import pyplot as plt\n",
    "from PIL import Image"
   ]
  },
  {
   "cell_type": "code",
   "execution_count": 2,
   "metadata": {
    "collapsed": true
   },
   "outputs": [],
   "source": [
    "# This is needed since the notebook is stored in the object_detection folder.\n",
    "sys.path.append(\"..\")"
   ]
  },
  {
   "cell_type": "code",
   "execution_count": 3,
   "metadata": {
    "collapsed": true
   },
   "outputs": [],
   "source": [
    "# ## Object detection imports\n",
    "# Here are the imports from the object detection module.\n",
    "\n",
    "# In[3]:\n",
    "\n",
    "from utils import label_map_util\n",
    "\n",
    "from utils import visualization_utils as vis_util\n",
    "\n",
    "from shutil import copyfile\n",
    "\n",
    "from glob import glob"
   ]
  },
  {
   "cell_type": "code",
   "execution_count": 4,
   "metadata": {
    "collapsed": true
   },
   "outputs": [],
   "source": [
    "def xml_to_csv(path):\n",
    "    print(\"path is:: \" + path)\n",
    "    xml_list = []\n",
    "    for xml_file in glob(path + '/*.xml'):\n",
    "        tree = ET.parse(xml_file)\n",
    "        root = tree.getroot()\n",
    "        for member in root.findall('object'):\n",
    "            value = (root.find('filename').text,\n",
    "                     int(root.find('size')[0].text),\n",
    "                     int(root.find('size')[1].text),\n",
    "                     member[0].text,\n",
    "                     int(member[4][0].text),\n",
    "                     int(member[4][1].text),\n",
    "                     int(member[4][2].text),\n",
    "                     int(member[4][3].text)\n",
    "                     )\n",
    "            xml_list.append(value)\n",
    "    column_name = ['filename', 'width', 'height', 'class', 'xmin', 'ymin', 'xmax', 'ymax']\n",
    "    xml_df = pd.DataFrame(xml_list, columns=column_name)\n",
    "    return xml_df\n"
   ]
  },
  {
   "cell_type": "code",
   "execution_count": 5,
   "metadata": {
    "collapsed": false
   },
   "outputs": [
    {
     "name": "stdout",
     "output_type": "stream",
     "text": [
      "/Users/kprayagai/Documents/Magesh/MachineLearning/iOS11ML/models-master/object_detection/images\n"
     ]
    }
   ],
   "source": [
    "%cd images"
   ]
  },
  {
   "cell_type": "code",
   "execution_count": 9,
   "metadata": {
    "collapsed": false
   },
   "outputs": [],
   "source": [
    "g = glob('*.jpg')\n",
    "shuf = np.random.permutation(g)\n",
    "\n",
    "#print(shuf)\n",
    "for i in range(150): \n",
    "    copyfile(shuf[i], 'train/' + shuf[i])\n",
    "    #print(shuf[i])\n",
    "    file_name = os.path.basename(shuf[i])\n",
    "    #print(file_name)\n",
    "    filename = os.path.splitext(file_name)[0] + '.xml'\n",
    "    copyfile(filename, 'train/' + filename)"
   ]
  },
  {
   "cell_type": "code",
   "execution_count": 10,
   "metadata": {
    "collapsed": true
   },
   "outputs": [],
   "source": [
    "g = glob('*.jpg')\n",
    "shuf = np.random.permutation(g)\n",
    "for i in range(42): \n",
    "    copyfile(shuf[i], 'test/' + shuf[i])\n",
    "    file_name = os.path.basename(shuf[i])\n",
    "    filename = os.path.splitext(file_name)[0] + '.xml'\n",
    "    copyfile(filename, 'test/' + filename)"
   ]
  },
  {
   "cell_type": "code",
   "execution_count": null,
   "metadata": {
    "collapsed": true
   },
   "outputs": [],
   "source": []
  },
  {
   "cell_type": "code",
   "execution_count": 11,
   "metadata": {
    "collapsed": false,
    "scrolled": true
   },
   "outputs": [
    {
     "name": "stdout",
     "output_type": "stream",
     "text": [
      "path is:: /Users/kprayagai/Documents/Magesh/MachineLearning/iOS11ML/models-master/object_detection/images/train\n",
      "Successfully converted xml to csv.\n",
      "path is:: /Users/kprayagai/Documents/Magesh/MachineLearning/iOS11ML/models-master/object_detection/images/test\n",
      "Successfully converted xml to csv.\n"
     ]
    }
   ],
   "source": [
    "for directory in ['train','test']:\n",
    "        image_path = os.path.join(os.getcwd(), '{}'.format(directory))\n",
    "        xml_df = xml_to_csv(image_path)\n",
    "        #print(xml_df)\n",
    "        xml_df.to_csv(os.path.join(os.getcwd(),'../data/{}_labels.csv'.format(directory)), index=None)\n",
    "        print('Successfully converted xml to csv.')"
   ]
  },
  {
   "cell_type": "code",
   "execution_count": null,
   "metadata": {
    "collapsed": true
   },
   "outputs": [],
   "source": []
  },
  {
   "cell_type": "code",
   "execution_count": null,
   "metadata": {
    "collapsed": true
   },
   "outputs": [],
   "source": [
    "# ## Download Model\n",
    "\n",
    "# In[5]:\n",
    "\n",
    "# Commented out since model is downloaded already.\n",
    "#opener = urllib.request.URLopener()\n",
    "#opener.retrieve(DOWNLOAD_BASE + MODEL_FILE, MODEL_FILE)\n",
    "#tar_file = tarfile.open(MODEL_FILE)\n",
    "#for file in tar_file.getmembers():\n",
    " #   file_name = os.path.basename(file.name)\n",
    " #   if 'frozen_inference_graph.pb' in file_name:\n",
    " #   tar_file.extract(file, os.getcwd())\n"
   ]
  },
  {
   "cell_type": "code",
   "execution_count": null,
   "metadata": {
    "collapsed": true
   },
   "outputs": [],
   "source": [
    "# ## Load a (frozen) Tensorflow model into memory.\n",
    "# In[6]:\n",
    "\n",
    "detection_graph = tf.Graph()\n",
    "with detection_graph.as_default():\n",
    "    od_graph_def = tf.GraphDef()\n",
    "    with tf.gfile.GFile(PATH_TO_CKPT, 'rb') as fid:\n",
    "        serialized_graph = fid.read()\n",
    "        od_graph_def.ParseFromString(serialized_graph)\n",
    "        tf.import_graph_def(od_graph_def, name='')\n"
   ]
  }
 ],
 "metadata": {
  "kernelspec": {
   "display_name": "Python 3",
   "language": "python",
   "name": "python3"
  },
  "language_info": {
   "codemirror_mode": {
    "name": "ipython",
    "version": 3
   },
   "file_extension": ".py",
   "mimetype": "text/x-python",
   "name": "python",
   "nbconvert_exporter": "python",
   "pygments_lexer": "ipython3",
   "version": "3.6.0"
  }
 },
 "nbformat": 4,
 "nbformat_minor": 2
}
